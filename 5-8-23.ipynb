{
 "cells": [
  {
   "cell_type": "markdown",
   "id": "d7d07d7a",
   "metadata": {},
   "source": [
    "## Introduction and Class Definition"
   ]
  },
  {
   "cell_type": "markdown",
   "id": "a3fadb07",
   "metadata": {},
   "source": [
    "# Classes and Inheritance Example\n"
   ]
  },
  {
   "cell_type": "markdown",
   "id": "d9fa8641",
   "metadata": {},
   "source": [
    "A class is a blueprint or template in object-oriented programming that defines a set of attributes and methods that characterize any object of the class. It provides a means of bundling data and functionality together, creating a new type."
   ]
  },
  {
   "cell_type": "markdown",
   "id": "2af8a478",
   "metadata": {},
   "source": [
    "## Vehicle Class\n",
    "\n",
    "Let's start by creating a simple `Vehicle` class. This class will be the base for all types of vehicles. It contains a simple `__init__` method that initializes the `make` and `model` of the vehicle.\n"
   ]
  },
  {
   "cell_type": "code",
   "execution_count": 25,
   "id": "cf441276",
   "metadata": {},
   "outputs": [],
   "source": [
    "class Vehicle:\n",
    "    def __init__(self, make, model):\n",
    "        self.make= make\n",
    "        self.model= model\n",
    "        \n",
    "    def print_info(self):\n",
    "        return f\"This vehicle is a {self.make} {self.model}\"\n"
   ]
  },
  {
   "cell_type": "markdown",
   "id": "40d89e6f",
   "metadata": {},
   "source": [
    "Inheritance is a fundamental principle of object-oriented programming where one class can inherit attributes and methods from another class, promoting reusability and modularity. It represents a \"is-a\" relationship between classes (e.g., a 'Dog' is a 'Mammal')."
   ]
  },
  {
   "cell_type": "markdown",
   "id": "ba95a63d",
   "metadata": {},
   "source": [
    "## Instantiating the Vehicle Class\n",
    "\n",
    "Now, let's create an instance of the `Vehicle` class.\n"
   ]
  },
  {
   "cell_type": "code",
   "execution_count": 26,
   "id": "c0126415",
   "metadata": {},
   "outputs": [
    {
     "name": "stdout",
     "output_type": "stream",
     "text": [
      "This vehicle is a Toyota Camry\n"
     ]
    }
   ],
   "source": [
    "vehicle= Vehicle(\"Toyota\", \"Camry\")\n",
    "print(vehicle.print_info())\n"
   ]
  },
  {
   "cell_type": "code",
   "execution_count": 28,
   "id": "93b43521",
   "metadata": {},
   "outputs": [],
   "source": [
    "class Car(Vehicle):\n",
    "    def __init__(self, make, model, doors):\n",
    "        super().__init__(make, model)\n",
    "        self.doors= doors\n",
    "        \n",
    "    def print_info(self):\n",
    "        return f\"This car is a {self.make} {self.model} with {self.doors} doors\"\n",
    "    \n",
    "class Motorcycle(Vehicle):\n",
    "    def __init__(self, make, model, type):\n",
    "        super().__init__(make, model)\n",
    "        self.type= type\n",
    "        \n",
    "    def print_info(self):\n",
    "        return f\"This car is a {self.make} {self.model} of type {self.type}\"\n",
    "    "
   ]
  },
  {
   "cell_type": "markdown",
   "id": "83232dca",
   "metadata": {},
   "source": [
    "## Instantiating Subclasses\n",
    "\n",
    "Let's create an instance of the `Car` and `Motorcycle` subclasses.\n"
   ]
  },
  {
   "cell_type": "code",
   "execution_count": 27,
   "id": "df33de11",
   "metadata": {},
   "outputs": [
    {
     "name": "stdout",
     "output_type": "stream",
     "text": [
      "This car is a Tesla Model A with 4 doors\n"
     ]
    }
   ],
   "source": [
    "car= Car(\"Tesla\",\"Model A\", 4)\n",
    "\n",
    "print(car.print_info())"
   ]
  },
  {
   "cell_type": "code",
   "execution_count": 29,
   "id": "361b7a3e",
   "metadata": {},
   "outputs": [
    {
     "name": "stdout",
     "output_type": "stream",
     "text": [
      "This car is a Tesla Model B of type Cruiser\n"
     ]
    }
   ],
   "source": [
    "motorcycle= Motorcycle(\"Tesla\",\"Model B\",\"Cruiser\")\n",
    "print(motorcycle.print_info())"
   ]
  },
  {
   "cell_type": "markdown",
   "id": "1ab26240",
   "metadata": {},
   "source": [
    "**Exercise: Bank Accounts**\n",
    "\n",
    "In this exercise, you will create different types of bank accounts.\n",
    "\n",
    "1. **Create a base class `BankAccount`**: This base class should contain a method `deposit` to add money to the account, `withdraw` to take money out of the account, and `get_balance` to check the current balance of the account. Also, include a method `print_balance` to print the current balance in a friendly format.\n",
    "\n",
    "2. **Create subclasses for specific types of bank accounts**: Create two subclasses that inherit from `BankAccount`: `CheckingAccount` and `SavingsAccount`. Each of these subclasses should override the `withdraw` method as follows:\n",
    "    - `CheckingAccount`: Users can withdraw money as long as they have a positive balance.\n",
    "    - `SavingsAccount`: Users can withdraw money only if they would still have at least $10 left in the account after the withdrawal.\n",
    "\n",
    "3. **Instantiate each subclass**: Create an instance of each of the subclasses, deposit some money into each account, and make some withdrawals. Also, print the balance of each account.\n"
   ]
  },
  {
   "cell_type": "code",
   "execution_count": 47,
   "id": "c350d912",
   "metadata": {},
   "outputs": [],
   "source": [
    "# base class\n",
    "class BankAccount:\n",
    "    def __init__(self):\n",
    "        self.balance = 0\n",
    "\n",
    "    def deposit(self, amount):\n",
    "        self.balance += amount\n",
    "        \n",
    "\n",
    "    def withdraw(self, amount):\n",
    "        if self.balance- amount >=0:\n",
    "            self.balance -=amount\n",
    "        else:\n",
    "            print(\"Not enough balance to withdraw\")\n",
    "        \n",
    "    def get_balance(self):\n",
    "        return self.balance\n",
    "        \n",
    "    def print_balance(self):\n",
    "        print(f\"The current balance is: {self.balance}\")\n",
    "        \n",
    "\n",
    "# subclasses\n",
    "class CheckingAccount(BankAccount):\n",
    "    def withdraw(self, amount):\n",
    "        if self.balance-amount>=0:\n",
    "            self.balance-=amount\n",
    "        else:\n",
    "            print(\"Not enough balance\")\n",
    "\n",
    "class SavingsAccount(BankAccount):\n",
    "    def withdraw(self, amount):\n",
    "        if self.balance-amount>=10:\n",
    "            self.balance-=amount\n",
    "        else:\n",
    "            print(\"Not enough balance, min balance of $10 should be maintained\")\n",
    "\n",
    "\n",
    "# instantiation and method calling\n",
    "# replace with your code\n"
   ]
  },
  {
   "cell_type": "code",
   "execution_count": 36,
   "id": "6e2ba442",
   "metadata": {},
   "outputs": [
    {
     "name": "stdout",
     "output_type": "stream",
     "text": [
      "Not enough balance to withdraw\n",
      "The current balance is: 200\n"
     ]
    }
   ],
   "source": [
    "bank= BankAccount()\n",
    "bank.deposit(200)\n",
    "bank.withdraw(300)\n",
    "bank.print_balance()"
   ]
  },
  {
   "cell_type": "code",
   "execution_count": 48,
   "id": "f6b10384",
   "metadata": {},
   "outputs": [
    {
     "name": "stdout",
     "output_type": "stream",
     "text": [
      "Not enough balance, min balance of $10 should be maintained\n",
      "The current balance is: 200\n"
     ]
    }
   ],
   "source": [
    "saving= SavingsAccount()\n",
    "saving.deposit(200)\n",
    "saving.withdraw(198)\n",
    "saving.print_balance()"
   ]
  },
  {
   "cell_type": "code",
   "execution_count": 41,
   "id": "8eb62700",
   "metadata": {},
   "outputs": [
    {
     "name": "stdout",
     "output_type": "stream",
     "text": [
      "Hi\n"
     ]
    }
   ],
   "source": [
    "def a():\n",
    "    return (\"Hi\")\n",
    "\n",
    "dummy= a()\n",
    "print(dummy)"
   ]
  },
  {
   "cell_type": "code",
   "execution_count": 49,
   "id": "19de4d32",
   "metadata": {},
   "outputs": [
    {
     "name": "stdout",
     "output_type": "stream",
     "text": [
      "C:\\Users\\tanus\\Xccelerate\n"
     ]
    }
   ],
   "source": [
    "import os\n",
    "print(os.getcwd())"
   ]
  },
  {
   "cell_type": "markdown",
   "id": "c5355e7d",
   "metadata": {},
   "source": [
    "## Basic Git terms"
   ]
  },
  {
   "cell_type": "markdown",
   "id": "e0b3417a",
   "metadata": {},
   "source": [
    "\n",
    "1. **Repository (repo)**: A folder for your project.\n",
    "2. **Commit**: Saving your changes.\n",
    "3. **Push**: Uploading your changes to GitHub.\n",
    "4. **Pull**: Downloading changes from GitHub.\n",
    "5. **Branch**: A separate workspace for changes.\n",
    "6. **Pull Request (PR)**: Asking others to include your changes.\n",
    "7. **Merge**: Combining different changes together.\n",
    "8. **Clone**: Making a local copy of a GitHub project.\n",
    "9. **Fork**: Making your own version of someone else's project on GitHub.\n",
    "10. **Issue**: A note or reminder about something to be fixed or improved in a project."
   ]
  }
 ],
 "metadata": {
  "kernelspec": {
   "display_name": "Python 3 (ipykernel)",
   "language": "python",
   "name": "python3"
  },
  "language_info": {
   "codemirror_mode": {
    "name": "ipython",
    "version": 3
   },
   "file_extension": ".py",
   "mimetype": "text/x-python",
   "name": "python",
   "nbconvert_exporter": "python",
   "pygments_lexer": "ipython3",
   "version": "3.9.12"
  }
 },
 "nbformat": 4,
 "nbformat_minor": 5
}
